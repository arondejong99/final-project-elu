{
 "cells": [
  {
   "attachments": {},
   "cell_type": "markdown",
   "metadata": {},
   "source": [
    "# Introduction\n",
    "This project is about creating an algorithm that would predict the detection of lung cancer based on CT scans. The algorithm would also predict what type of cancer is within the patient and the size of the tumor if applied."
   ]
  },
  {
   "cell_type": "code",
   "execution_count": 2,
   "metadata": {},
   "outputs": [
    {
     "name": "stdout",
     "output_type": "stream",
     "text": [
      "Note: you may need to restart the kernel to use updated packages.\n"
     ]
    },
    {
     "name": "stderr",
     "output_type": "stream",
     "text": [
      "ERROR: pip's dependency resolver does not currently take into account all the packages that are installed. This behaviour is the source of the following dependency conflicts.\n",
      "d2l 0.17.5 requires numpy==1.21.5, but you have numpy 1.23.5 which is incompatible.\n",
      "tensorboard 2.10.0 requires protobuf<3.20,>=3.9.2, but you have protobuf 3.20.1 which is incompatible.\n",
      "jupyterlab-server 2.16.5 requires requests>=2.28, but you have requests 2.25.1 which is incompatible.\n"
     ]
    }
   ],
   "source": [
    "%pip install tcia_utils -q"
   ]
  },
  {
   "cell_type": "code",
   "execution_count": 3,
   "metadata": {},
   "outputs": [],
   "source": [
    "# Import the necessary modules\n",
    "import numpy as np\n",
    "import pandas as pd\n",
    "import matplotlib.pyplot as plt\n",
    "import requests\n",
    "import pandas as pd\n",
    "from tcia_utils import nbia"
   ]
  },
  {
   "cell_type": "code",
   "execution_count": 4,
   "metadata": {},
   "outputs": [
    {
     "name": "stdout",
     "output_type": "stream",
     "text": [
      "Calling...  https://services.cancerimagingarchive.net/nbia-api/services/v1/getCollectionValues with parameters {}\n",
      "Calling...  https://services.cancerimagingarchive.net/nbia-api/services/v1/getSeries with parameters {'Collection': 'Lung-PET-CT-Dx', 'Modality': 'CT'}\n"
     ]
    }
   ],
   "source": [
    "nbia.getCollections()\n",
    "\n",
    "# Get the data using the nbia API call\n",
    "data = nbia.getSeries(collection = \"Lung-PET-CT-Dx\", modality= \"CT\")"
   ]
  },
  {
   "cell_type": "code",
   "execution_count": 5,
   "metadata": {},
   "outputs": [
    {
     "name": "stdout",
     "output_type": "stream",
     "text": [
      "Downloading 3 out of 1162 Series Instance UIDs (scans).\n",
      "Series 1.3.6.1.4.1.14519.5.2.1.6655.2359.115443980116685191938898384240 already downloaded.\n",
      "Series 1.3.6.1.4.1.14519.5.2.1.6655.2359.142073665012025807228520349136 already downloaded.\n",
      "Series 1.3.6.1.4.1.14519.5.2.1.6655.2359.192913516459057625595531454950 already downloaded.\n",
      "Downloading... https://services.cancerimagingarchive.net/nbia-api/services/v1/getImage?NewFileNames=Yes&SeriesInstanceUID=1.3.6.1.4.1.14519.5.2.1.6655.2359.650617506468584127812048396796\n",
      "Downloading... https://services.cancerimagingarchive.net/nbia-api/services/v1/getImage?NewFileNames=Yes&SeriesInstanceUID=1.3.6.1.4.1.14519.5.2.1.6655.2359.204257665465595561928664311425\n",
      "Downloading... https://services.cancerimagingarchive.net/nbia-api/services/v1/getImage?NewFileNames=Yes&SeriesInstanceUID=1.3.6.1.4.1.14519.5.2.1.6655.2359.329975758621187875680787296139\n",
      "Downloaded 3 out of 3 requested series from a total of 1162 Series Instance UIDs (scans).\n",
      "0 failed to download.\n",
      "3 previously downloaded.\n"
     ]
    },
    {
     "data": {
      "text/html": [
       "<div>\n",
       "<style scoped>\n",
       "    .dataframe tbody tr th:only-of-type {\n",
       "        vertical-align: middle;\n",
       "    }\n",
       "\n",
       "    .dataframe tbody tr th {\n",
       "        vertical-align: top;\n",
       "    }\n",
       "\n",
       "    .dataframe thead th {\n",
       "        text-align: right;\n",
       "    }\n",
       "</style>\n",
       "<table border=\"1\" class=\"dataframe\">\n",
       "  <thead>\n",
       "    <tr style=\"text-align: right;\">\n",
       "      <th></th>\n",
       "      <th>Series UID</th>\n",
       "      <th>Collection</th>\n",
       "      <th>Data Description URI</th>\n",
       "      <th>Subject ID</th>\n",
       "      <th>Study UID</th>\n",
       "      <th>Study Description</th>\n",
       "      <th>Study Date</th>\n",
       "      <th>Series Description</th>\n",
       "      <th>Manufacturer</th>\n",
       "      <th>Modality</th>\n",
       "      <th>SOP Class UID</th>\n",
       "      <th>Number of Images</th>\n",
       "      <th>File Size</th>\n",
       "      <th>Series Number</th>\n",
       "      <th>License Name</th>\n",
       "      <th>License URL</th>\n",
       "      <th>Annotation Size</th>\n",
       "    </tr>\n",
       "  </thead>\n",
       "  <tbody>\n",
       "    <tr>\n",
       "      <th>0</th>\n",
       "      <td>1.3.6.1.4.1.14519.5.2.1.6655.2359.115443980116...</td>\n",
       "      <td>Lung-PET-CT-Dx</td>\n",
       "      <td>https://doi.org/10.7937/TCIA.2020.NNC2-0461</td>\n",
       "      <td>Lung_Dx-A0012</td>\n",
       "      <td>1.3.6.1.4.1.14519.5.2.1.6655.2359.165244450683...</td>\n",
       "      <td>Chest</td>\n",
       "      <td>08-22-2008</td>\n",
       "      <td>Recon 2 5mm</td>\n",
       "      <td>GE MEDICAL SYSTEMS</td>\n",
       "      <td>CT</td>\n",
       "      <td>1.2.840.10008.5.1.4.1.1.2</td>\n",
       "      <td>35</td>\n",
       "      <td>18493580</td>\n",
       "      <td>5.000000</td>\n",
       "      <td>Creative Commons Attribution 4.0 International...</td>\n",
       "      <td>https://creativecommons.org/licenses/by/4.0/</td>\n",
       "      <td>0</td>\n",
       "    </tr>\n",
       "    <tr>\n",
       "      <th>1</th>\n",
       "      <td>1.3.6.1.4.1.14519.5.2.1.6655.2359.142073665012...</td>\n",
       "      <td>Lung-PET-CT-Dx</td>\n",
       "      <td>https://doi.org/10.7937/TCIA.2020.NNC2-0461</td>\n",
       "      <td>Lung_Dx-A0012</td>\n",
       "      <td>1.3.6.1.4.1.14519.5.2.1.6655.2359.165244450683...</td>\n",
       "      <td>Chest</td>\n",
       "      <td>08-22-2008</td>\n",
       "      <td>5mm</td>\n",
       "      <td>GE MEDICAL SYSTEMS</td>\n",
       "      <td>CT</td>\n",
       "      <td>1.2.840.10008.5.1.4.1.1.2</td>\n",
       "      <td>36</td>\n",
       "      <td>19021680</td>\n",
       "      <td>2.000000</td>\n",
       "      <td>Creative Commons Attribution 4.0 International...</td>\n",
       "      <td>https://creativecommons.org/licenses/by/4.0/</td>\n",
       "      <td>0</td>\n",
       "    </tr>\n",
       "    <tr>\n",
       "      <th>2</th>\n",
       "      <td>1.3.6.1.4.1.14519.5.2.1.6655.2359.192913516459...</td>\n",
       "      <td>Lung-PET-CT-Dx</td>\n",
       "      <td>https://doi.org/10.7937/TCIA.2020.NNC2-0461</td>\n",
       "      <td>Lung_Dx-A0012</td>\n",
       "      <td>1.3.6.1.4.1.14519.5.2.1.6655.2359.165244450683...</td>\n",
       "      <td>Chest</td>\n",
       "      <td>08-22-2008</td>\n",
       "      <td>5mm</td>\n",
       "      <td>GE MEDICAL SYSTEMS</td>\n",
       "      <td>CT</td>\n",
       "      <td>1.2.840.10008.5.1.4.1.1.2</td>\n",
       "      <td>35</td>\n",
       "      <td>18493370</td>\n",
       "      <td>4.000000</td>\n",
       "      <td>Creative Commons Attribution 4.0 International...</td>\n",
       "      <td>https://creativecommons.org/licenses/by/4.0/</td>\n",
       "      <td>0</td>\n",
       "    </tr>\n",
       "    <tr>\n",
       "      <th>3</th>\n",
       "      <td>1.3.6.1.4.1.14519.5.2.1.6655.2359.650617506468...</td>\n",
       "      <td>Lung-PET-CT-Dx</td>\n",
       "      <td>https://doi.org/10.7937/TCIA.2020.NNC2-0461</td>\n",
       "      <td>Lung_Dx-A0012</td>\n",
       "      <td>1.3.6.1.4.1.14519.5.2.1.6655.2359.165244450683...</td>\n",
       "      <td>Chest</td>\n",
       "      <td>08-22-2008</td>\n",
       "      <td>Recon 2 5mm</td>\n",
       "      <td>GE MEDICAL SYSTEMS</td>\n",
       "      <td>CT</td>\n",
       "      <td>1.2.840.10008.5.1.4.1.1.2</td>\n",
       "      <td>36</td>\n",
       "      <td>19021896</td>\n",
       "      <td>3.000000</td>\n",
       "      <td>Creative Commons Attribution 4.0 International...</td>\n",
       "      <td>https://creativecommons.org/licenses/by/4.0/</td>\n",
       "      <td>0</td>\n",
       "    </tr>\n",
       "    <tr>\n",
       "      <th>4</th>\n",
       "      <td>1.3.6.1.4.1.14519.5.2.1.6655.2359.204257665465...</td>\n",
       "      <td>Lung-PET-CT-Dx</td>\n",
       "      <td>https://doi.org/10.7937/TCIA.2020.NNC2-0461</td>\n",
       "      <td>Lung_Dx-A0013</td>\n",
       "      <td>1.3.6.1.4.1.14519.5.2.1.6655.2359.171494204612...</td>\n",
       "      <td>POS</td>\n",
       "      <td>02-13-2009</td>\n",
       "      <td>5mm</td>\n",
       "      <td>GE MEDICAL SYSTEMS</td>\n",
       "      <td>CT</td>\n",
       "      <td>1.2.840.10008.5.1.4.1.1.2</td>\n",
       "      <td>8</td>\n",
       "      <td>4226992</td>\n",
       "      <td>3.000000</td>\n",
       "      <td>Creative Commons Attribution 4.0 International...</td>\n",
       "      <td>https://creativecommons.org/licenses/by/4.0/</td>\n",
       "      <td>0</td>\n",
       "    </tr>\n",
       "    <tr>\n",
       "      <th>5</th>\n",
       "      <td>1.3.6.1.4.1.14519.5.2.1.6655.2359.329975758621...</td>\n",
       "      <td>Lung-PET-CT-Dx</td>\n",
       "      <td>https://doi.org/10.7937/TCIA.2020.NNC2-0461</td>\n",
       "      <td>Lung_Dx-A0013</td>\n",
       "      <td>1.3.6.1.4.1.14519.5.2.1.6655.2359.171494204612...</td>\n",
       "      <td>POS</td>\n",
       "      <td>02-13-2009</td>\n",
       "      <td>5mm</td>\n",
       "      <td>GE MEDICAL SYSTEMS</td>\n",
       "      <td>CT</td>\n",
       "      <td>1.2.840.10008.5.1.4.1.1.2</td>\n",
       "      <td>8</td>\n",
       "      <td>4226976</td>\n",
       "      <td>2.000000</td>\n",
       "      <td>Creative Commons Attribution 4.0 International...</td>\n",
       "      <td>https://creativecommons.org/licenses/by/4.0/</td>\n",
       "      <td>0</td>\n",
       "    </tr>\n",
       "  </tbody>\n",
       "</table>\n",
       "</div>"
      ],
      "text/plain": [
       "                                          Series UID      Collection  \\\n",
       "0  1.3.6.1.4.1.14519.5.2.1.6655.2359.115443980116...  Lung-PET-CT-Dx   \n",
       "1  1.3.6.1.4.1.14519.5.2.1.6655.2359.142073665012...  Lung-PET-CT-Dx   \n",
       "2  1.3.6.1.4.1.14519.5.2.1.6655.2359.192913516459...  Lung-PET-CT-Dx   \n",
       "3  1.3.6.1.4.1.14519.5.2.1.6655.2359.650617506468...  Lung-PET-CT-Dx   \n",
       "4  1.3.6.1.4.1.14519.5.2.1.6655.2359.204257665465...  Lung-PET-CT-Dx   \n",
       "5  1.3.6.1.4.1.14519.5.2.1.6655.2359.329975758621...  Lung-PET-CT-Dx   \n",
       "\n",
       "                          Data Description URI     Subject ID  \\\n",
       "0  https://doi.org/10.7937/TCIA.2020.NNC2-0461  Lung_Dx-A0012   \n",
       "1  https://doi.org/10.7937/TCIA.2020.NNC2-0461  Lung_Dx-A0012   \n",
       "2  https://doi.org/10.7937/TCIA.2020.NNC2-0461  Lung_Dx-A0012   \n",
       "3  https://doi.org/10.7937/TCIA.2020.NNC2-0461  Lung_Dx-A0012   \n",
       "4  https://doi.org/10.7937/TCIA.2020.NNC2-0461  Lung_Dx-A0013   \n",
       "5  https://doi.org/10.7937/TCIA.2020.NNC2-0461  Lung_Dx-A0013   \n",
       "\n",
       "                                           Study UID Study Description  \\\n",
       "0  1.3.6.1.4.1.14519.5.2.1.6655.2359.165244450683...             Chest   \n",
       "1  1.3.6.1.4.1.14519.5.2.1.6655.2359.165244450683...             Chest   \n",
       "2  1.3.6.1.4.1.14519.5.2.1.6655.2359.165244450683...             Chest   \n",
       "3  1.3.6.1.4.1.14519.5.2.1.6655.2359.165244450683...             Chest   \n",
       "4  1.3.6.1.4.1.14519.5.2.1.6655.2359.171494204612...               POS   \n",
       "5  1.3.6.1.4.1.14519.5.2.1.6655.2359.171494204612...               POS   \n",
       "\n",
       "   Study Date Series Description        Manufacturer Modality  \\\n",
       "0  08-22-2008        Recon 2 5mm  GE MEDICAL SYSTEMS       CT   \n",
       "1  08-22-2008                5mm  GE MEDICAL SYSTEMS       CT   \n",
       "2  08-22-2008                5mm  GE MEDICAL SYSTEMS       CT   \n",
       "3  08-22-2008        Recon 2 5mm  GE MEDICAL SYSTEMS       CT   \n",
       "4  02-13-2009                5mm  GE MEDICAL SYSTEMS       CT   \n",
       "5  02-13-2009                5mm  GE MEDICAL SYSTEMS       CT   \n",
       "\n",
       "               SOP Class UID Number of Images File Size Series Number  \\\n",
       "0  1.2.840.10008.5.1.4.1.1.2               35  18493580      5.000000   \n",
       "1  1.2.840.10008.5.1.4.1.1.2               36  19021680      2.000000   \n",
       "2  1.2.840.10008.5.1.4.1.1.2               35  18493370      4.000000   \n",
       "3  1.2.840.10008.5.1.4.1.1.2               36  19021896      3.000000   \n",
       "4  1.2.840.10008.5.1.4.1.1.2                8   4226992      3.000000   \n",
       "5  1.2.840.10008.5.1.4.1.1.2                8   4226976      2.000000   \n",
       "\n",
       "                                        License Name  \\\n",
       "0  Creative Commons Attribution 4.0 International...   \n",
       "1  Creative Commons Attribution 4.0 International...   \n",
       "2  Creative Commons Attribution 4.0 International...   \n",
       "3  Creative Commons Attribution 4.0 International...   \n",
       "4  Creative Commons Attribution 4.0 International...   \n",
       "5  Creative Commons Attribution 4.0 International...   \n",
       "\n",
       "                                    License URL Annotation Size  \n",
       "0  https://creativecommons.org/licenses/by/4.0/               0  \n",
       "1  https://creativecommons.org/licenses/by/4.0/               0  \n",
       "2  https://creativecommons.org/licenses/by/4.0/               0  \n",
       "3  https://creativecommons.org/licenses/by/4.0/               0  \n",
       "4  https://creativecommons.org/licenses/by/4.0/               0  \n",
       "5  https://creativecommons.org/licenses/by/4.0/               0  "
      ]
     },
     "metadata": {},
     "output_type": "display_data"
    }
   ],
   "source": [
    "# Download a sample\n",
    "df = nbia.downloadSeries(data, number = 3)\n",
    "display(df)"
   ]
  },
  {
   "cell_type": "code",
   "execution_count": 13,
   "metadata": {},
   "outputs": [],
   "source": [
    "token = nbia.getToken"
   ]
  },
  {
   "cell_type": "code",
   "execution_count": 6,
   "metadata": {},
   "outputs": [],
   "source": [
    "# Get unique Series UID\n",
    "series_uid = df[\"Series UID\"].unique()[0]\n",
    "\n",
    "#image = nbia.viewSeries(series_uid)"
   ]
  },
  {
   "cell_type": "code",
   "execution_count": 14,
   "metadata": {},
   "outputs": [],
   "source": [
    "# Download images\n",
    "baseUrl = \"https://services.cancerimagingarchive.net/nbia-api/services/v1\"\n",
    "endpoint = \"/getImage\"\n",
    "queryParams = \"?SeriesInstanceUID=\" + series_uid\n",
    "\n",
    "url = baseUrl + endpoint + queryParams\n",
    "\n",
    "images = requests.get(url=url)"
   ]
  }
 ],
 "metadata": {
  "kernelspec": {
   "display_name": "data-science-aron",
   "language": "python",
   "name": "python3"
  },
  "language_info": {
   "codemirror_mode": {
    "name": "ipython",
    "version": 3
   },
   "file_extension": ".py",
   "mimetype": "text/x-python",
   "name": "python",
   "nbconvert_exporter": "python",
   "pygments_lexer": "ipython3",
   "version": "3.9.7"
  },
  "orig_nbformat": 4,
  "vscode": {
   "interpreter": {
    "hash": "6f549cdea60c899c49e67c287d71332340ec69b7cadabf3e30e23886253d0790"
   }
  }
 },
 "nbformat": 4,
 "nbformat_minor": 2
}
