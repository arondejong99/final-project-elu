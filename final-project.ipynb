{
 "cells": [
  {
   "attachments": {},
   "cell_type": "markdown",
   "metadata": {},
   "source": [
    "# Introduction\n",
    "This project is about creating an algorithm that would predict the detection of lung cancer based on CT scans. The algorithm would also predict what type of cancer is within the patient and the size of the tumor if applied."
   ]
  },
  {
   "cell_type": "code",
   "execution_count": 3,
   "metadata": {},
   "outputs": [],
   "source": [
    "# Import the necessary modules\n",
    "# If you get a ModuleNotFoundError, use %pip install {module} to install the module\n",
    "import numpy as np\n",
    "import pandas as pd\n",
    "import matplotlib.pyplot as plt\n",
    "import requests\n",
    "import pandas as pd\n",
    "from tcia_utils import nbia\n",
    "import os\n",
    "import sys\n",
    "import itk\n",
    "import pydicom as dicom\n",
    "from pathlib import Path\n",
    "import time\n",
    "from zipfile import ZipFile \n",
    "import cv2\n",
    "from tqdm import tqdm\n",
    "import glob\n"
   ]
  },
  {
   "attachments": {},
   "cell_type": "markdown",
   "metadata": {},
   "source": [
    "# Data importing\n",
    "In this chapter, the data will be imported. For this, I've selected a subset from the LUng-PET-CT-Dx collection from this link: https://wiki.cancerimagingarchive.net/pages/viewpage.action?pageId=70224216#7022421621c64ff049c44f03bb442ec5eb88bdf2\n"
   ]
  },
  {
   "cell_type": "code",
   "execution_count": 4,
   "metadata": {},
   "outputs": [
    {
     "name": "stdout",
     "output_type": "stream",
     "text": [
      "Execution time: 120.14109659194946 seconds\n"
     ]
    }
   ],
   "source": [
    "# Set start time\n",
    "start_time = time.time()\n",
    "\n",
    "# Get the data that's locally stored\n",
    "basePath = Path(\"tciaDownload/manifest-1608669183333/Lung-PET-CT-Dx\")\n",
    "\n",
    "# Get the DICOM files present in the path set before\n",
    "pathFiles = list(basePath.rglob('*.dcm'))\n",
    "\n",
    "# Set the DICOM files in a numpy array\n",
    "images = [dicom.filereader.dcmread(x) for x in pathFiles]\n",
    "pixels = [np.array(image.pixel_array).flatten() for image in images]\n",
    "age = [image.PatientAge for image in images]\n",
    "sex = [image.PatientSex for image in images]\n",
    "patient_id = [image.PatientID for image in images]\n",
    "cancer_type = [image.PatientID[8] for image in images]\n",
    "sop_instance_uid = [image.SOPInstanceUID for image in images]\n",
    "\n",
    "# Print time execution\n",
    "print(f\"Execution time: {time.time() - start_time} seconds\")"
   ]
  },
  {
   "cell_type": "code",
   "execution_count": 10,
   "metadata": {},
   "outputs": [
    {
     "name": "stderr",
     "output_type": "stream",
     "text": [
      "7it [00:00, 303.10it/s]\n"
     ]
    },
    {
     "data": {
      "text/html": [
       "<div>\n",
       "<style scoped>\n",
       "    .dataframe tbody tr th:only-of-type {\n",
       "        vertical-align: middle;\n",
       "    }\n",
       "\n",
       "    .dataframe tbody tr th {\n",
       "        vertical-align: top;\n",
       "    }\n",
       "\n",
       "    .dataframe thead th {\n",
       "        text-align: right;\n",
       "    }\n",
       "</style>\n",
       "<table border=\"1\" class=\"dataframe\">\n",
       "  <thead>\n",
       "    <tr style=\"text-align: right;\">\n",
       "      <th></th>\n",
       "      <th>patient_id</th>\n",
       "      <th>sop_instance_id</th>\n",
       "      <th>image_pixels</th>\n",
       "      <th>patient_age</th>\n",
       "      <th>patient_sex</th>\n",
       "      <th>cancer_type</th>\n",
       "      <th>has_cancer</th>\n",
       "    </tr>\n",
       "  </thead>\n",
       "  <tbody>\n",
       "    <tr>\n",
       "      <th>0</th>\n",
       "      <td>Lung_Dx-A0002</td>\n",
       "      <td>1.3.6.1.4.1.14519.5.2.1.6655.2359.295499053390...</td>\n",
       "      <td>[44, 0, 10, 37, 0, 36, 70, 22, 0, 35, 0, 49, 0...</td>\n",
       "      <td>053Y</td>\n",
       "      <td>F</td>\n",
       "      <td>A</td>\n",
       "      <td>1</td>\n",
       "    </tr>\n",
       "    <tr>\n",
       "      <th>1</th>\n",
       "      <td>Lung_Dx-A0002</td>\n",
       "      <td>1.3.6.1.4.1.14519.5.2.1.6655.2359.314562946465...</td>\n",
       "      <td>[50, 0, 22, 26, 42, 25, 6, 51, 35, 7, 13, 33, ...</td>\n",
       "      <td>053Y</td>\n",
       "      <td>F</td>\n",
       "      <td>A</td>\n",
       "      <td>1</td>\n",
       "    </tr>\n",
       "    <tr>\n",
       "      <th>2</th>\n",
       "      <td>Lung_Dx-A0002</td>\n",
       "      <td>1.3.6.1.4.1.14519.5.2.1.6655.2359.142392682681...</td>\n",
       "      <td>[16, 3, 0, 89, 20, 10, 1, 22, 12, 61, 10, 25, ...</td>\n",
       "      <td>053Y</td>\n",
       "      <td>F</td>\n",
       "      <td>A</td>\n",
       "      <td>1</td>\n",
       "    </tr>\n",
       "    <tr>\n",
       "      <th>3</th>\n",
       "      <td>Lung_Dx-A0002</td>\n",
       "      <td>1.3.6.1.4.1.14519.5.2.1.6655.2359.117012811165...</td>\n",
       "      <td>[58, 0, 25, 71, 40, 48, 0, 0, 32, 49, 4, 46, 1...</td>\n",
       "      <td>053Y</td>\n",
       "      <td>F</td>\n",
       "      <td>A</td>\n",
       "      <td>1</td>\n",
       "    </tr>\n",
       "    <tr>\n",
       "      <th>4</th>\n",
       "      <td>Lung_Dx-A0002</td>\n",
       "      <td>1.3.6.1.4.1.14519.5.2.1.6655.2359.208988389922...</td>\n",
       "      <td>[13, 0, 27, 53, 18, 41, 26, 0, 37, 30, 68, 0, ...</td>\n",
       "      <td>053Y</td>\n",
       "      <td>F</td>\n",
       "      <td>A</td>\n",
       "      <td>1</td>\n",
       "    </tr>\n",
       "  </tbody>\n",
       "</table>\n",
       "</div>"
      ],
      "text/plain": [
       "      patient_id                                    sop_instance_id  \\\n",
       "0  Lung_Dx-A0002  1.3.6.1.4.1.14519.5.2.1.6655.2359.295499053390...   \n",
       "1  Lung_Dx-A0002  1.3.6.1.4.1.14519.5.2.1.6655.2359.314562946465...   \n",
       "2  Lung_Dx-A0002  1.3.6.1.4.1.14519.5.2.1.6655.2359.142392682681...   \n",
       "3  Lung_Dx-A0002  1.3.6.1.4.1.14519.5.2.1.6655.2359.117012811165...   \n",
       "4  Lung_Dx-A0002  1.3.6.1.4.1.14519.5.2.1.6655.2359.208988389922...   \n",
       "\n",
       "                                        image_pixels patient_age patient_sex  \\\n",
       "0  [44, 0, 10, 37, 0, 36, 70, 22, 0, 35, 0, 49, 0...        053Y           F   \n",
       "1  [50, 0, 22, 26, 42, 25, 6, 51, 35, 7, 13, 33, ...        053Y           F   \n",
       "2  [16, 3, 0, 89, 20, 10, 1, 22, 12, 61, 10, 25, ...        053Y           F   \n",
       "3  [58, 0, 25, 71, 40, 48, 0, 0, 32, 49, 4, 46, 1...        053Y           F   \n",
       "4  [13, 0, 27, 53, 18, 41, 26, 0, 37, 30, 68, 0, ...        053Y           F   \n",
       "\n",
       "  cancer_type  has_cancer  \n",
       "0           A           1  \n",
       "1           A           1  \n",
       "2           A           1  \n",
       "3           A           1  \n",
       "4           A           1  "
      ]
     },
     "metadata": {},
     "output_type": "display_data"
    }
   ],
   "source": [
    "# Put created lists into dataframe\n",
    "colNames = [\"patient_id\", \"sop_instance_id\", \"image_pixels\", \"patient_age\", \"patient_sex\", \"cancer_type\", 'has_cancer']\n",
    "data = [patient_id, sop_instance_uid, pixels, age, sex, cancer_type, 1]\n",
    "\n",
    "df = pd.DataFrame()\n",
    "\n",
    "for colName, values in tqdm(zip(colNames, data)):\n",
    "    df[colName] = values\n",
    "\n",
    "display(df.head())"
   ]
  },
  {
   "cell_type": "code",
   "execution_count": 6,
   "metadata": {},
   "outputs": [
    {
     "name": "stderr",
     "output_type": "stream",
     "text": [
      "100%|██████████| 203/203 [00:02<00:00, 96.44it/s] \n"
     ]
    }
   ],
   "source": [
    "# Extract the normal lungs images from the zip file\n",
    "normalLungs = \"C:/Users/ardejong/Documents/final-project-elu/final-project-elu/normal_ct_scans.zip\"\n",
    "  \n",
    "\n",
    "# open the zip file in read mode\n",
    "with ZipFile(normalLungs, 'r') as normal_lungs_zip: \n",
    "    # Extract all the files\n",
    "    normal_lungs_zip.extractall()\n",
    "\n",
    "# Extract the PNG files\n",
    "NormalLungFiles = glob.glob('C:/Users/ardejong/Documents/final-project-elu/final-project-elu/**/*.png', recursive=True)\n",
    "\n",
    "normalLungsImages = []\n",
    "\n",
    "# Read each PNG file in a for loop\n",
    "for pathNormalLung in tqdm(NormalLungFiles):\n",
    "    lungImage = cv2.imread(pathNormalLung, cv2.IMREAD_GRAYSCALE)\n",
    "    lungImage_reshaped = np.reshape(lungImage, -1)\n",
    "    normalLungsImages.append(lungImage_reshaped)\n",
    "\n",
    "\n"
   ]
  },
  {
   "cell_type": "code",
   "execution_count": 12,
   "metadata": {},
   "outputs": [
    {
     "name": "stderr",
     "output_type": "stream",
     "text": [
      "Creating an ndarray from ragged nested sequences (which is a list-or-tuple of lists-or-tuples-or ndarrays with different lengths or shapes) is deprecated. If you meant to do this, you must specify 'dtype=object' when creating the ndarray.\n"
     ]
    },
    {
     "data": {
      "text/html": [
       "<div>\n",
       "<style scoped>\n",
       "    .dataframe tbody tr th:only-of-type {\n",
       "        vertical-align: middle;\n",
       "    }\n",
       "\n",
       "    .dataframe tbody tr th {\n",
       "        vertical-align: top;\n",
       "    }\n",
       "\n",
       "    .dataframe thead th {\n",
       "        text-align: right;\n",
       "    }\n",
       "</style>\n",
       "<table border=\"1\" class=\"dataframe\">\n",
       "  <thead>\n",
       "    <tr style=\"text-align: right;\">\n",
       "      <th></th>\n",
       "      <th>image_pixels</th>\n",
       "      <th>has_cancer</th>\n",
       "    </tr>\n",
       "  </thead>\n",
       "  <tbody>\n",
       "    <tr>\n",
       "      <th>0</th>\n",
       "      <td>[0, 0, 0, 0, 0, 0, 0, 0, 0, 0, 0, 0, 0, 0, 0, ...</td>\n",
       "      <td>0</td>\n",
       "    </tr>\n",
       "    <tr>\n",
       "      <th>1</th>\n",
       "      <td>[0, 0, 0, 0, 0, 0, 0, 0, 0, 0, 0, 0, 0, 0, 0, ...</td>\n",
       "      <td>0</td>\n",
       "    </tr>\n",
       "    <tr>\n",
       "      <th>2</th>\n",
       "      <td>[0, 0, 0, 0, 0, 0, 0, 0, 0, 0, 0, 0, 0, 0, 0, ...</td>\n",
       "      <td>0</td>\n",
       "    </tr>\n",
       "    <tr>\n",
       "      <th>3</th>\n",
       "      <td>[0, 0, 0, 0, 0, 0, 0, 0, 0, 0, 0, 0, 0, 0, 0, ...</td>\n",
       "      <td>0</td>\n",
       "    </tr>\n",
       "    <tr>\n",
       "      <th>4</th>\n",
       "      <td>[0, 0, 0, 0, 0, 0, 0, 0, 0, 0, 0, 0, 0, 0, 0, ...</td>\n",
       "      <td>0</td>\n",
       "    </tr>\n",
       "  </tbody>\n",
       "</table>\n",
       "</div>"
      ],
      "text/plain": [
       "                                        image_pixels  has_cancer\n",
       "0  [0, 0, 0, 0, 0, 0, 0, 0, 0, 0, 0, 0, 0, 0, 0, ...           0\n",
       "1  [0, 0, 0, 0, 0, 0, 0, 0, 0, 0, 0, 0, 0, 0, 0, ...           0\n",
       "2  [0, 0, 0, 0, 0, 0, 0, 0, 0, 0, 0, 0, 0, 0, 0, ...           0\n",
       "3  [0, 0, 0, 0, 0, 0, 0, 0, 0, 0, 0, 0, 0, 0, 0, ...           0\n",
       "4  [0, 0, 0, 0, 0, 0, 0, 0, 0, 0, 0, 0, 0, 0, 0, ...           0"
      ]
     },
     "execution_count": 12,
     "metadata": {},
     "output_type": "execute_result"
    }
   ],
   "source": [
    "# Create dataframe based on PNG images and add has_cancer column with value of 0\n",
    "df_normal_lungs = pd.DataFrame(data = np.array(normalLungsImages).T, columns=[\"image_pixels\"])\n",
    "df_normal_lungs[\"has_cancer\"] = 0\n",
    "\n",
    "# Add rows from other dataframe using the append function: pixel arrays and has_cancer \n",
    "df_normal_lungs = pd.concat([df_normal_lungs, df[['image_pixels', 'has_cancer']]])\n",
    "\n",
    "\n",
    "df_normal_lungs.head()"
   ]
  },
  {
   "cell_type": "code",
   "execution_count": 14,
   "metadata": {},
   "outputs": [
    {
     "data": {
      "text/plain": [
       "array([0, 1], dtype=int64)"
      ]
     },
     "execution_count": 14,
     "metadata": {},
     "output_type": "execute_result"
    }
   ],
   "source": [
    "df_normal_lungs.has_cancer.unique()"
   ]
  },
  {
   "attachments": {},
   "cell_type": "markdown",
   "metadata": {},
   "source": [
    "# Data cleaning\n",
    "In this chapter, the data cleaning will be done. This involves mostly around feature engineering the structure of the images to make it ready for training the data."
   ]
  },
  {
   "attachments": {},
   "cell_type": "markdown",
   "metadata": {},
   "source": [
    "## Setting the data types of the columns"
   ]
  },
  {
   "cell_type": "code",
   "execution_count": 17,
   "metadata": {},
   "outputs": [
    {
     "name": "stdout",
     "output_type": "stream",
     "text": [
      "<class 'pandas.core.frame.DataFrame'>\n",
      "RangeIndex: 7700 entries, 0 to 7699\n",
      "Data columns (total 7 columns):\n",
      " #   Column           Non-Null Count  Dtype \n",
      "---  ------           --------------  ----- \n",
      " 0   patient_id       7700 non-null   object\n",
      " 1   sop_instance_id  7700 non-null   object\n",
      " 2   image_pixels     7700 non-null   object\n",
      " 3   patient_age      7700 non-null   object\n",
      " 4   patient_sex      7700 non-null   object\n",
      " 5   cancer_type      7700 non-null   object\n",
      " 6   has_cancer       7700 non-null   int64 \n",
      "dtypes: int64(1), object(6)\n",
      "memory usage: 421.2+ KB\n",
      "None\n"
     ]
    }
   ],
   "source": [
    "print(df.info())"
   ]
  },
  {
   "cell_type": "code",
   "execution_count": 16,
   "metadata": {},
   "outputs": [
    {
     "name": "stdout",
     "output_type": "stream",
     "text": [
      "Lowest age: 000Y\n",
      "Highest age: 085Y\n"
     ]
    }
   ],
   "source": [
    "print(f\"Lowest age: {min(df.patient_age)}\")\n",
    "print(f\"Highest age: {max(df.patient_age)}\")"
   ]
  },
  {
   "attachments": {},
   "cell_type": "markdown",
   "metadata": {},
   "source": [
    "As you can see, the age column starts with a '0' and ends with a 'Y'. To clean this data, the 'Y' will be removed and the column data type will be converted to an integer."
   ]
  },
  {
   "cell_type": "code",
   "execution_count": 26,
   "metadata": {},
   "outputs": [],
   "source": [
    "# Clean up the patientAge column\n",
    "df['patient_age'] = [int(x[0:-1]) for x in df.patient_age]"
   ]
  },
  {
   "cell_type": "code",
   "execution_count": 18,
   "metadata": {},
   "outputs": [
    {
     "name": "stdout",
     "output_type": "stream",
     "text": [
      "<class 'pandas.core.frame.DataFrame'>\n",
      "RangeIndex: 7700 entries, 0 to 7699\n",
      "Data columns (total 7 columns):\n",
      " #   Column           Non-Null Count  Dtype   \n",
      "---  ------           --------------  -----   \n",
      " 0   patient_id       7700 non-null   object  \n",
      " 1   sop_instance_id  7700 non-null   object  \n",
      " 2   image_pixels     7700 non-null   object  \n",
      " 3   patient_age      7700 non-null   object  \n",
      " 4   patient_sex      7700 non-null   category\n",
      " 5   cancer_type      7700 non-null   category\n",
      " 6   has_cancer       7700 non-null   int64   \n",
      "dtypes: category(2), int64(1), object(4)\n",
      "memory usage: 316.3+ KB\n"
     ]
    }
   ],
   "source": [
    "# Remap PatientSex and CancerType\n",
    "cols = ['patient_sex', 'cancer_type']\n",
    "\n",
    "dict_sex = {\"M\": \"Male\", \"F\": \"Female\"}\n",
    "dict_cancer_type = {'A': \"Adenocarcinoma\", 'B': \"Small Cell Carcinoma\", 'E': \"Large Cell Carcinoma\", \"G\": \"Squamous Cell Carcinoma\"}\n",
    "\n",
    "df = df.replace({cols[0]: dict_sex, cols[1]: dict_cancer_type})\n",
    "\n",
    "# Turn PatientSex and CancerType into categorical columns\n",
    "df[cols] = df[cols].astype('category')\n",
    "\n",
    "df.info()"
   ]
  },
  {
   "cell_type": "code",
   "execution_count": 19,
   "metadata": {},
   "outputs": [
    {
     "data": {
      "text/html": [
       "<div>\n",
       "<style scoped>\n",
       "    .dataframe tbody tr th:only-of-type {\n",
       "        vertical-align: middle;\n",
       "    }\n",
       "\n",
       "    .dataframe tbody tr th {\n",
       "        vertical-align: top;\n",
       "    }\n",
       "\n",
       "    .dataframe thead th {\n",
       "        text-align: right;\n",
       "    }\n",
       "</style>\n",
       "<table border=\"1\" class=\"dataframe\">\n",
       "  <thead>\n",
       "    <tr style=\"text-align: right;\">\n",
       "      <th></th>\n",
       "      <th>patient_id</th>\n",
       "      <th>sop_instance_id</th>\n",
       "      <th>image_pixels</th>\n",
       "      <th>patient_age</th>\n",
       "      <th>patient_sex</th>\n",
       "      <th>cancer_type</th>\n",
       "      <th>has_cancer</th>\n",
       "    </tr>\n",
       "  </thead>\n",
       "  <tbody>\n",
       "    <tr>\n",
       "      <th>0</th>\n",
       "      <td>Lung_Dx-A0002</td>\n",
       "      <td>1.3.6.1.4.1.14519.5.2.1.6655.2359.295499053390...</td>\n",
       "      <td>[44, 0, 10, 37, 0, 36, 70, 22, 0, 35, 0, 49, 0...</td>\n",
       "      <td>053Y</td>\n",
       "      <td>Female</td>\n",
       "      <td>Adenocarcinoma</td>\n",
       "      <td>1</td>\n",
       "    </tr>\n",
       "    <tr>\n",
       "      <th>1</th>\n",
       "      <td>Lung_Dx-A0002</td>\n",
       "      <td>1.3.6.1.4.1.14519.5.2.1.6655.2359.314562946465...</td>\n",
       "      <td>[50, 0, 22, 26, 42, 25, 6, 51, 35, 7, 13, 33, ...</td>\n",
       "      <td>053Y</td>\n",
       "      <td>Female</td>\n",
       "      <td>Adenocarcinoma</td>\n",
       "      <td>1</td>\n",
       "    </tr>\n",
       "    <tr>\n",
       "      <th>2</th>\n",
       "      <td>Lung_Dx-A0002</td>\n",
       "      <td>1.3.6.1.4.1.14519.5.2.1.6655.2359.142392682681...</td>\n",
       "      <td>[16, 3, 0, 89, 20, 10, 1, 22, 12, 61, 10, 25, ...</td>\n",
       "      <td>053Y</td>\n",
       "      <td>Female</td>\n",
       "      <td>Adenocarcinoma</td>\n",
       "      <td>1</td>\n",
       "    </tr>\n",
       "    <tr>\n",
       "      <th>3</th>\n",
       "      <td>Lung_Dx-A0002</td>\n",
       "      <td>1.3.6.1.4.1.14519.5.2.1.6655.2359.117012811165...</td>\n",
       "      <td>[58, 0, 25, 71, 40, 48, 0, 0, 32, 49, 4, 46, 1...</td>\n",
       "      <td>053Y</td>\n",
       "      <td>Female</td>\n",
       "      <td>Adenocarcinoma</td>\n",
       "      <td>1</td>\n",
       "    </tr>\n",
       "    <tr>\n",
       "      <th>4</th>\n",
       "      <td>Lung_Dx-A0002</td>\n",
       "      <td>1.3.6.1.4.1.14519.5.2.1.6655.2359.208988389922...</td>\n",
       "      <td>[13, 0, 27, 53, 18, 41, 26, 0, 37, 30, 68, 0, ...</td>\n",
       "      <td>053Y</td>\n",
       "      <td>Female</td>\n",
       "      <td>Adenocarcinoma</td>\n",
       "      <td>1</td>\n",
       "    </tr>\n",
       "  </tbody>\n",
       "</table>\n",
       "</div>"
      ],
      "text/plain": [
       "      patient_id                                    sop_instance_id  \\\n",
       "0  Lung_Dx-A0002  1.3.6.1.4.1.14519.5.2.1.6655.2359.295499053390...   \n",
       "1  Lung_Dx-A0002  1.3.6.1.4.1.14519.5.2.1.6655.2359.314562946465...   \n",
       "2  Lung_Dx-A0002  1.3.6.1.4.1.14519.5.2.1.6655.2359.142392682681...   \n",
       "3  Lung_Dx-A0002  1.3.6.1.4.1.14519.5.2.1.6655.2359.117012811165...   \n",
       "4  Lung_Dx-A0002  1.3.6.1.4.1.14519.5.2.1.6655.2359.208988389922...   \n",
       "\n",
       "                                        image_pixels patient_age patient_sex  \\\n",
       "0  [44, 0, 10, 37, 0, 36, 70, 22, 0, 35, 0, 49, 0...        053Y      Female   \n",
       "1  [50, 0, 22, 26, 42, 25, 6, 51, 35, 7, 13, 33, ...        053Y      Female   \n",
       "2  [16, 3, 0, 89, 20, 10, 1, 22, 12, 61, 10, 25, ...        053Y      Female   \n",
       "3  [58, 0, 25, 71, 40, 48, 0, 0, 32, 49, 4, 46, 1...        053Y      Female   \n",
       "4  [13, 0, 27, 53, 18, 41, 26, 0, 37, 30, 68, 0, ...        053Y      Female   \n",
       "\n",
       "      cancer_type  has_cancer  \n",
       "0  Adenocarcinoma           1  \n",
       "1  Adenocarcinoma           1  \n",
       "2  Adenocarcinoma           1  \n",
       "3  Adenocarcinoma           1  \n",
       "4  Adenocarcinoma           1  "
      ]
     },
     "execution_count": 19,
     "metadata": {},
     "output_type": "execute_result"
    }
   ],
   "source": [
    "df.head()"
   ]
  },
  {
   "attachments": {},
   "cell_type": "markdown",
   "metadata": {},
   "source": [
    "# Data visualization\n",
    "In this chapter, some visualizations will be done to get more insight into the data."
   ]
  },
  {
   "cell_type": "code",
   "execution_count": 20,
   "metadata": {},
   "outputs": [],
   "source": [
    "# Create function that shows the distribution between a set of columns\n",
    "def distributionPlot(x, colors, labels, title):\n",
    "    x = x.value_counts(normalize = True)\n",
    "\n",
    "    plt.pie(x = x, colors = colors, labels = x.index, autopct = \"%0.3f%%\", startangle = 90)\n",
    "    plt.title(title)\n",
    "    plt.show()"
   ]
  },
  {
   "cell_type": "code",
   "execution_count": 21,
   "metadata": {},
   "outputs": [
    {
     "data": {
      "image/png": "[encoded data removed]",
      "text/plain": [
       "<Figure size 640x480 with 1 Axes>"
      ]
     },
     "metadata": {},
     "output_type": "display_data"
    }
   ],
   "source": [
    "# Check the distirbution of Male to Female patients\n",
    "# Set up parameters\n",
    "colors = ['blue', 'pink']\n",
    "labels = [\"Male\", \"Female\"]\n",
    "title = \"Distribution of Male to Female ratio\"\n",
    "\n",
    "distributionPlot(df.patient_sex, colors, labels, title)"
   ]
  },
  {
   "cell_type": "code",
   "execution_count": 23,
   "metadata": {},
   "outputs": [
    {
     "data": {
      "image/png": "[encoded data removed]",
      "text/plain": [
       "<Figure size 640x480 with 1 Axes>"
      ]
     },
     "metadata": {},
     "output_type": "display_data"
    }
   ],
   "source": [
    "types = ['Adenocarcinoma', 'Small Cell Carcinoma']\n",
    "\n",
    "# Check the distribution of cancer Types\n",
    "# Set up parameters\n",
    "colors = ['Red', 'Green', 'Blue', 'Yellow']\n",
    "title = \"Distribution of cancer types\"\n",
    "\n",
    "# Call distributionPlot function to show distribution\n",
    "distributionPlot(df.cancer_type, colors, labels, title)"
   ]
  },
  {
   "cell_type": "code",
   "execution_count": 27,
   "metadata": {},
   "outputs": [
    {
     "data": {
      "image/png": "[encoded data removed]",
      "text/plain": [
       "<Figure size 640x480 with 1 Axes>"
      ]
     },
     "metadata": {},
     "output_type": "display_data"
    }
   ],
   "source": [
    "# check the distribution of \n",
    "df.patient_age.hist()\n",
    "plt.show()"
   ]
  },
  {
   "cell_type": "code",
   "execution_count": 28,
   "metadata": {},
   "outputs": [
    {
     "data": {
      "image/png": "[encoded data removed]",
      "text/plain": [
       "<Figure size 640x480 with 1 Axes>"
      ]
     },
     "metadata": {},
     "output_type": "display_data"
    }
   ],
   "source": [
    "# Show distribution of cancer vs non-cancer patients\n",
    "# Set parameters\n",
    "title = \"Distribution of patients with and without lung cancer\"\n",
    "colors = [\"red\", 'green']\n",
    "\n",
    "# Call distributionPlot function to show distribution\n",
    "distributionPlot(df_normal_lungs.has_cancer, colors, labels, title)"
   ]
  },
  {
   "attachments": {},
   "cell_type": "markdown",
   "metadata": {},
   "source": [
    "# Model building, training and testing\n",
    "In this chapter, the model will be build and trained before it will be tested among the test data.\n"
   ]
  },
  {
   "cell_type": "code",
   "execution_count": 13,
   "metadata": {},
   "outputs": [],
   "source": []
  },
  {
   "attachments": {},
   "cell_type": "markdown",
   "metadata": {},
   "source": [
    "# Results\n",
    "In this chapter, the results will be shown. For this, we'll look into the following:\n",
    "- The True Negative Rate for detecting the lung cancer\n",
    "- The Mean Absolute Error (MAE) for the size of the tumor\n",
    "- Accuracy for the type of cancer and the corresponding confidence score."
   ]
  },
  {
   "cell_type": "code",
   "execution_count": 25,
   "metadata": {},
   "outputs": [
    {
     "name": "stdout",
     "output_type": "stream",
     "text": [
      "1.2.840.10008.5.1.4.1.1.2\n"
     ]
    }
   ],
   "source": []
  }
 ],
 "metadata": {
  "kernelspec": {
   "display_name": "data-science-aron",
   "language": "python",
   "name": "python3"
  },
  "language_info": {
   "codemirror_mode": {
    "name": "ipython",
    "version": 3
   },
   "file_extension": ".py",
   "mimetype": "text/x-python",
   "name": "python",
   "nbconvert_exporter": "python",
   "pygments_lexer": "ipython3",
   "version": "3.9.16"
  },
  "orig_nbformat": 4,
  "vscode": {
   "interpreter": {
    "hash": "6f549cdea60c899c49e67c287d71332340ec69b7cadabf3e30e23886253d0790"
   }
  }
 },
 "nbformat": 4,
 "nbformat_minor": 2
}
