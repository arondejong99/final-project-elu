{
 "cells": [
  {
   "attachments": {},
   "cell_type": "markdown",
   "metadata": {},
   "source": [
    "# Introduction\n",
    "This project is about creating an algorithm that would predict the detection of lung cancer based on CT scans. The algorithm would also predict what type of cancer is within the patient and the size of the tumor if applied."
   ]
  },
  {
   "cell_type": "code",
   "execution_count": 11,
   "metadata": {},
   "outputs": [],
   "source": [
    "# Import the necessary modules\n",
    "import numpy as np\n",
    "import pandas as pd\n",
    "import matplotlib.pyplot as plt\n",
    "import requests\n",
    "import pandas as pd\n",
    "from tcia_utils import nbia\n",
    "import os\n",
    "import sys\n",
    "import itk\n",
    "import pydicom as dicom\n",
    "from pathlib import Path\n",
    "import time\n",
    "from zipfile import ZipFile "
   ]
  },
  {
   "attachments": {},
   "cell_type": "markdown",
   "metadata": {},
   "source": [
    "# Data importing\n",
    "In this chapter, the data will be imported. For this, I've selected a subset from the LUng-PET-CT-Dx collection from this link: https://wiki.cancerimagingarchive.net/pages/viewpage.action?pageId=70224216#7022421621c64ff049c44f03bb442ec5eb88bdf2\n"
   ]
  },
  {
   "cell_type": "code",
   "execution_count": 2,
   "metadata": {},
   "outputs": [
    {
     "name": "stdout",
     "output_type": "stream",
     "text": [
      "Execution time: 160.8373317718506 seconds\n"
     ]
    }
   ],
   "source": [
    "# Set start time\n",
    "start_time = time.time()\n",
    "\n",
    "# Get the data that's locally stored\n",
    "basePath = Path(\"tciaDownload/manifest-1608669183333/Lung-PET-CT-Dx\")\n",
    "\n",
    "# Get the DICOM files present in the path set before\n",
    "pathFiles = list(basePath.rglob('*.dcm'))\n",
    "\n",
    "# Set the DICOM files in a numpy array\n",
    "images = [dicom.filereader.dcmread(x) for x in pathFiles]\n",
    "pixels = [np.array(image.pixel_array).flatten() for image in images]\n",
    "age = [image.PatientAge for image in images]\n",
    "sex = [image.PatientSex for image in images]\n",
    "patient_id = [image.PatientID for image in images]\n",
    "cancer_type = [image.PatientID[8] for image in images]\n",
    "sop_instance_uid = [image.SOPInstanceUID for image in images]\n",
    "\n",
    "# Print time execution\n",
    "print(f\"Execution time: {time.time() - start_time} seconds\")"
   ]
  },
  {
   "cell_type": "code",
   "execution_count": 3,
   "metadata": {},
   "outputs": [
    {
     "data": {
      "text/html": [
       "<div>\n",
       "<style scoped>\n",
       "    .dataframe tbody tr th:only-of-type {\n",
       "        vertical-align: middle;\n",
       "    }\n",
       "\n",
       "    .dataframe tbody tr th {\n",
       "        vertical-align: top;\n",
       "    }\n",
       "\n",
       "    .dataframe thead th {\n",
       "        text-align: right;\n",
       "    }\n",
       "</style>\n",
       "<table border=\"1\" class=\"dataframe\">\n",
       "  <thead>\n",
       "    <tr style=\"text-align: right;\">\n",
       "      <th></th>\n",
       "      <th>PatientId</th>\n",
       "      <th>SOPInstanceId</th>\n",
       "      <th>ImagePixels</th>\n",
       "      <th>PatientAge</th>\n",
       "      <th>PatientSex</th>\n",
       "      <th>CancerType</th>\n",
       "    </tr>\n",
       "  </thead>\n",
       "  <tbody>\n",
       "    <tr>\n",
       "      <th>0</th>\n",
       "      <td>Lung_Dx-A0002</td>\n",
       "      <td>1.3.6.1.4.1.14519.5.2.1.6655.2359.295499053390...</td>\n",
       "      <td>[44, 0, 10, 37, 0, 36, 70, 22, 0, 35, 0, 49, 0...</td>\n",
       "      <td>053Y</td>\n",
       "      <td>F</td>\n",
       "      <td>A</td>\n",
       "    </tr>\n",
       "    <tr>\n",
       "      <th>1</th>\n",
       "      <td>Lung_Dx-A0002</td>\n",
       "      <td>1.3.6.1.4.1.14519.5.2.1.6655.2359.314562946465...</td>\n",
       "      <td>[50, 0, 22, 26, 42, 25, 6, 51, 35, 7, 13, 33, ...</td>\n",
       "      <td>053Y</td>\n",
       "      <td>F</td>\n",
       "      <td>A</td>\n",
       "    </tr>\n",
       "    <tr>\n",
       "      <th>2</th>\n",
       "      <td>Lung_Dx-A0002</td>\n",
       "      <td>1.3.6.1.4.1.14519.5.2.1.6655.2359.142392682681...</td>\n",
       "      <td>[16, 3, 0, 89, 20, 10, 1, 22, 12, 61, 10, 25, ...</td>\n",
       "      <td>053Y</td>\n",
       "      <td>F</td>\n",
       "      <td>A</td>\n",
       "    </tr>\n",
       "    <tr>\n",
       "      <th>3</th>\n",
       "      <td>Lung_Dx-A0002</td>\n",
       "      <td>1.3.6.1.4.1.14519.5.2.1.6655.2359.117012811165...</td>\n",
       "      <td>[58, 0, 25, 71, 40, 48, 0, 0, 32, 49, 4, 46, 1...</td>\n",
       "      <td>053Y</td>\n",
       "      <td>F</td>\n",
       "      <td>A</td>\n",
       "    </tr>\n",
       "    <tr>\n",
       "      <th>4</th>\n",
       "      <td>Lung_Dx-A0002</td>\n",
       "      <td>1.3.6.1.4.1.14519.5.2.1.6655.2359.208988389922...</td>\n",
       "      <td>[13, 0, 27, 53, 18, 41, 26, 0, 37, 30, 68, 0, ...</td>\n",
       "      <td>053Y</td>\n",
       "      <td>F</td>\n",
       "      <td>A</td>\n",
       "    </tr>\n",
       "  </tbody>\n",
       "</table>\n",
       "</div>"
      ],
      "text/plain": [
       "       PatientId                                      SOPInstanceId  \\\n",
       "0  Lung_Dx-A0002  1.3.6.1.4.1.14519.5.2.1.6655.2359.295499053390...   \n",
       "1  Lung_Dx-A0002  1.3.6.1.4.1.14519.5.2.1.6655.2359.314562946465...   \n",
       "2  Lung_Dx-A0002  1.3.6.1.4.1.14519.5.2.1.6655.2359.142392682681...   \n",
       "3  Lung_Dx-A0002  1.3.6.1.4.1.14519.5.2.1.6655.2359.117012811165...   \n",
       "4  Lung_Dx-A0002  1.3.6.1.4.1.14519.5.2.1.6655.2359.208988389922...   \n",
       "\n",
       "                                         ImagePixels PatientAge PatientSex  \\\n",
       "0  [44, 0, 10, 37, 0, 36, 70, 22, 0, 35, 0, 49, 0...       053Y          F   \n",
       "1  [50, 0, 22, 26, 42, 25, 6, 51, 35, 7, 13, 33, ...       053Y          F   \n",
       "2  [16, 3, 0, 89, 20, 10, 1, 22, 12, 61, 10, 25, ...       053Y          F   \n",
       "3  [58, 0, 25, 71, 40, 48, 0, 0, 32, 49, 4, 46, 1...       053Y          F   \n",
       "4  [13, 0, 27, 53, 18, 41, 26, 0, 37, 30, 68, 0, ...       053Y          F   \n",
       "\n",
       "  CancerType  \n",
       "0          A  \n",
       "1          A  \n",
       "2          A  \n",
       "3          A  \n",
       "4          A  "
      ]
     },
     "metadata": {},
     "output_type": "display_data"
    }
   ],
   "source": [
    "# Put created lists into dataframe\n",
    "colNames = [\"PatientId\", \"SOPInstanceId\", \"ImagePixels\", \"PatientAge\", \"PatientSex\", \"CancerType\"]\n",
    "data = [patient_id, sop_instance_uid, pixels, age, sex, cancer_type]\n",
    "\n",
    "df = pd.DataFrame()\n",
    "\n",
    "for colName, values in zip(colNames, data):\n",
    "    df[colName] = values\n",
    "\n",
    "display(df.head())"
   ]
  },
  {
   "cell_type": "code",
   "execution_count": 10,
   "metadata": {},
   "outputs": [
    {
     "data": {
      "text/plain": [
       "'A000'"
      ]
     },
     "execution_count": 10,
     "metadata": {},
     "output_type": "execute_result"
    }
   ],
   "source": [
    "# Set patient ID list to retrieve annotations based upon\n",
    "patient_id[0][-5:-1]"
   ]
  },
  {
   "cell_type": "code",
   "execution_count": 16,
   "metadata": {},
   "outputs": [],
   "source": [
    "# Extract the normal lungs images from the zip file\n",
    "normalLungs = \"C:/Users/ardejong/Documents/final-project-elu/final-project-elu/normal_ct_scans.zip\"\n",
    "  \n",
    "# open the zip file in read mode\n",
    "with ZipFile(normalLungs, 'r') as zip: \n",
    "    # Extract all the files\n",
    "    zip.extractall()"
   ]
  },
  {
   "attachments": {},
   "cell_type": "markdown",
   "metadata": {},
   "source": [
    "# Data cleaning\n",
    "In this chapter, the data cleaning will be done. This involves mostly around feature engineering the structure of the images to make it ready for training the data."
   ]
  },
  {
   "cell_type": "code",
   "execution_count": 12,
   "metadata": {},
   "outputs": [
    {
     "name": "stdout",
     "output_type": "stream",
     "text": [
      "000Y\n"
     ]
    }
   ],
   "source": [
    "print(min(df.PatientAge))"
   ]
  },
  {
   "attachments": {},
   "cell_type": "markdown",
   "metadata": {},
   "source": [
    "# Model building, training and testing\n",
    "In this chapter, the model will be build and trained before it will be tested among the test data.\n"
   ]
  },
  {
   "cell_type": "code",
   "execution_count": 13,
   "metadata": {},
   "outputs": [],
   "source": []
  },
  {
   "attachments": {},
   "cell_type": "markdown",
   "metadata": {},
   "source": [
    "# Results\n",
    "In this chapter, the results will be shown. For this, we'll look into the following:\n",
    "- The True Negative Rate for detecting the lung cancer\n",
    "- The Mean Absolute Error (MAE) for the size of the tumor\n",
    "- Accuracy for the type of cancer and the corresponding confidence score."
   ]
  },
  {
   "cell_type": "code",
   "execution_count": 25,
   "metadata": {},
   "outputs": [
    {
     "name": "stdout",
     "output_type": "stream",
     "text": [
      "1.2.840.10008.5.1.4.1.1.2\n"
     ]
    }
   ],
   "source": []
  }
 ],
 "metadata": {
  "kernelspec": {
   "display_name": "data-science-aron",
   "language": "python",
   "name": "python3"
  },
  "language_info": {
   "codemirror_mode": {
    "name": "ipython",
    "version": 3
   },
   "file_extension": ".py",
   "mimetype": "text/x-python",
   "name": "python",
   "nbconvert_exporter": "python",
   "pygments_lexer": "ipython3",
   "version": "3.9.7"
  },
  "orig_nbformat": 4,
  "vscode": {
   "interpreter": {
    "hash": "6f549cdea60c899c49e67c287d71332340ec69b7cadabf3e30e23886253d0790"
   }
  }
 },
 "nbformat": 4,
 "nbformat_minor": 2
}
