{
 "cells": [
  {
   "attachments": {},
   "cell_type": "markdown",
   "metadata": {},
   "source": [
    "# Introduction\n",
    "This project is about creating an algorithm that would predict the detection of lung cancer based on CT scans. The algorithm would also predict what type of cancer is within the patient and the size of the tumor if applied."
   ]
  },
  {
   "cell_type": "code",
   "execution_count": 10,
   "metadata": {},
   "outputs": [
    {
     "name": "stdout",
     "output_type": "stream",
     "text": [
      "Collecting itk\n",
      "  Downloading itk-5.3.0-cp39-cp39-win_amd64.whl (8.3 kB)\n",
      "Collecting itk-registration==5.3.0\n",
      "  Downloading itk_registration-5.3.0-cp39-cp39-win_amd64.whl (9.4 MB)\n",
      "     ---------------------------------------- 9.4/9.4 MB 13.3 MB/s eta 0:00:00\n",
      "Requirement already satisfied: numpy in c:\\users\\ardejong\\anaconda\\envs\\data-science-aron\\lib\\site-packages (from itk) (1.23.5)\n",
      "Collecting itk-io==5.3.0\n",
      "  Downloading itk_io-5.3.0-cp39-cp39-win_amd64.whl (8.6 MB)\n",
      "     ---------------------------------------- 8.6/8.6 MB 13.7 MB/s eta 0:00:00\n",
      "Collecting itk-core==5.3.0\n",
      "  Downloading itk_core-5.3.0-cp39-cp39-win_amd64.whl (36.4 MB)\n",
      "     --------------------------------------- 36.4/36.4 MB 12.1 MB/s eta 0:00:00\n",
      "Collecting itk-numerics==5.3.0\n",
      "  Downloading itk_numerics-5.3.0-cp39-cp39-win_amd64.whl (20.0 MB)\n",
      "     --------------------------------------- 20.0/20.0 MB 13.3 MB/s eta 0:00:00\n",
      "Collecting itk-filtering==5.3.0\n",
      "  Downloading itk_filtering-5.3.0-cp39-cp39-win_amd64.whl (23.8 MB)\n",
      "     --------------------------------------- 23.8/23.8 MB 12.8 MB/s eta 0:00:00\n",
      "Collecting itk-segmentation==5.3.0\n",
      "  Downloading itk_segmentation-5.3.0-cp39-cp39-win_amd64.whl (5.1 MB)\n",
      "     ---------------------------------------- 5.1/5.1 MB 13.5 MB/s eta 0:00:00\n",
      "Installing collected packages: itk-core, itk-numerics, itk-io, itk-filtering, itk-segmentation, itk-registration, itk\n",
      "Successfully installed itk-5.3.0 itk-core-5.3.0 itk-filtering-5.3.0 itk-io-5.3.0 itk-numerics-5.3.0 itk-registration-5.3.0 itk-segmentation-5.3.0\n",
      "Note: you may need to restart the kernel to use updated packages.\n"
     ]
    }
   ],
   "source": [
    "# Install tcia_utill and itk if you haven't already\n",
    "#%pip install tcia_utils -q\n",
    "#%pip install itk"
   ]
  },
  {
   "cell_type": "code",
   "execution_count": 1,
   "metadata": {},
   "outputs": [],
   "source": [
    "# Import the necessary modules\n",
    "import numpy as np\n",
    "import pandas as pd\n",
    "import matplotlib.pyplot as plt\n",
    "import requests\n",
    "import pandas as pd\n",
    "from tcia_utils import nbia\n",
    "import os\n",
    "import sys\n",
    "import itk\n",
    "import pydicom as dicom\n",
    "from pathlib import Path"
   ]
  },
  {
   "attachments": {},
   "cell_type": "markdown",
   "metadata": {},
   "source": [
    "# Data importing\n",
    "In this chapter, the data will be imported. For this, I've selected a subset from the LUng-PET-CT-Dx collection from this link: https://wiki.cancerimagingarchive.net/pages/viewpage.action?pageId=70224216#7022421621c64ff049c44f03bb442ec5eb88bdf2\n"
   ]
  },
  {
   "cell_type": "code",
   "execution_count": 2,
   "metadata": {},
   "outputs": [
    {
     "data": {
      "text/html": [
       "<div>\n",
       "<style scoped>\n",
       "    .dataframe tbody tr th:only-of-type {\n",
       "        vertical-align: middle;\n",
       "    }\n",
       "\n",
       "    .dataframe tbody tr th {\n",
       "        vertical-align: top;\n",
       "    }\n",
       "\n",
       "    .dataframe thead th {\n",
       "        text-align: right;\n",
       "    }\n",
       "</style>\n",
       "<table border=\"1\" class=\"dataframe\">\n",
       "  <thead>\n",
       "    <tr style=\"text-align: right;\">\n",
       "      <th></th>\n",
       "      <th>0</th>\n",
       "    </tr>\n",
       "  </thead>\n",
       "  <tbody>\n",
       "    <tr>\n",
       "      <th>0</th>\n",
       "      <td>1.3.6.1.4.1.14519.5.2.1.6655.2359.295499053390...</td>\n",
       "    </tr>\n",
       "    <tr>\n",
       "      <th>1</th>\n",
       "      <td>1.3.6.1.4.1.14519.5.2.1.6655.2359.314562946465...</td>\n",
       "    </tr>\n",
       "    <tr>\n",
       "      <th>2</th>\n",
       "      <td>1.3.6.1.4.1.14519.5.2.1.6655.2359.142392682681...</td>\n",
       "    </tr>\n",
       "    <tr>\n",
       "      <th>3</th>\n",
       "      <td>1.3.6.1.4.1.14519.5.2.1.6655.2359.117012811165...</td>\n",
       "    </tr>\n",
       "    <tr>\n",
       "      <th>4</th>\n",
       "      <td>1.3.6.1.4.1.14519.5.2.1.6655.2359.208988389922...</td>\n",
       "    </tr>\n",
       "  </tbody>\n",
       "</table>\n",
       "</div>"
      ],
      "text/plain": [
       "                                                   0\n",
       "0  1.3.6.1.4.1.14519.5.2.1.6655.2359.295499053390...\n",
       "1  1.3.6.1.4.1.14519.5.2.1.6655.2359.314562946465...\n",
       "2  1.3.6.1.4.1.14519.5.2.1.6655.2359.142392682681...\n",
       "3  1.3.6.1.4.1.14519.5.2.1.6655.2359.117012811165...\n",
       "4  1.3.6.1.4.1.14519.5.2.1.6655.2359.208988389922..."
      ]
     },
     "execution_count": 2,
     "metadata": {},
     "output_type": "execute_result"
    }
   ],
   "source": [
    "# Get the data that's locally stored\n",
    "basePath = \"tciaDownload/manifest-1608669183333/Lung-PET-CT-Dx\"\n",
    "\n",
    "data = Path(basePath)\n",
    "\n",
    "pathFiles = list(data.rglob('*.dcm'))\n",
    "\n",
    "sample = pathFiles[0]\n",
    "\n",
    "fileSample = dicom.filereader.dcmread(sample)\n",
    "\n",
    "files = [dicom.filereader.dcmread(x).SOPInstanceUID for x in pathFiles]\n",
    "\n",
    "pd_data = pd.DataFrame(data = files)\n",
    "\n",
    "\n",
    "pd_data.head()"
   ]
  },
  {
   "cell_type": "code",
   "execution_count": 11,
   "metadata": {},
   "outputs": [
    {
     "data": {
      "text/plain": [
       "7700"
      ]
     },
     "execution_count": 11,
     "metadata": {},
     "output_type": "execute_result"
    }
   ],
   "source": [
    "# Retrieve the paths in the set basePath varible earlier\n",
    "data = Path(basePath)\n",
    "\n",
    "# Retrieve .dcm files\n",
    "pathFiles = list(data.rglob('*.dcm'))\n",
    "\n",
    "sample = pathFiles[0:2]\n",
    "\n",
    "#fileSamples = [dicom.filereader.dcmread(x).pixel_array for x in sample]\n",
    "\n",
    "fileArray = [dicom.filereader.dcmread(x).pixel_array for x in pathFiles]\n",
    "\n",
    "# Reshape the images from (512, 512) to (262.144, )\n",
    "pixel_1d_arrays = np.array([(np.array(image).flatten()) for image in fileArray])\n",
    "\n",
    "#fileSamplesArray = [list(np.array(x).flatten()) for x in fileSamples]\n",
    "\n",
    "len(pixel_1d_arrays)"
   ]
  },
  {
   "attachments": {},
   "cell_type": "markdown",
   "metadata": {},
   "source": [
    "# Data cleaning\n",
    "In this chapter, the data cleaning will be done. This involves mostly around feature engineering the structure of the images to make it ready for training the data."
   ]
  },
  {
   "cell_type": "code",
   "execution_count": null,
   "metadata": {},
   "outputs": [],
   "source": []
  },
  {
   "attachments": {},
   "cell_type": "markdown",
   "metadata": {},
   "source": [
    "# Model building, training and testing\n",
    "In this chapter, the model will be build and trained before it will be tested among the test data.\n"
   ]
  },
  {
   "cell_type": "code",
   "execution_count": 13,
   "metadata": {},
   "outputs": [],
   "source": [
    "print(df)"
   ]
  },
  {
   "attachments": {},
   "cell_type": "markdown",
   "metadata": {},
   "source": [
    "# Results\n",
    "In this chapter, the results will be shown. For this, we'll look into the following:\n",
    "- The True Negative Rate for detecting the lung cancer\n",
    "- The Mean Absolute Error (MAE) for the size of the tumor\n",
    "- Accuracy for the type of cancer and the corresponding confidence score."
   ]
  },
  {
   "cell_type": "code",
   "execution_count": 25,
   "metadata": {},
   "outputs": [
    {
     "name": "stdout",
     "output_type": "stream",
     "text": [
      "1.2.840.10008.5.1.4.1.1.2\n"
     ]
    }
   ],
   "source": []
  }
 ],
 "metadata": {
  "kernelspec": {
   "display_name": "data-science-aron",
   "language": "python",
   "name": "python3"
  },
  "language_info": {
   "codemirror_mode": {
    "name": "ipython",
    "version": 3
   },
   "file_extension": ".py",
   "mimetype": "text/x-python",
   "name": "python",
   "nbconvert_exporter": "python",
   "pygments_lexer": "ipython3",
   "version": "3.9.7 (default, Sep 16 2021, 16:59:28) [MSC v.1916 64 bit (AMD64)]"
  },
  "orig_nbformat": 4,
  "vscode": {
   "interpreter": {
    "hash": "6f549cdea60c899c49e67c287d71332340ec69b7cadabf3e30e23886253d0790"
   }
  }
 },
 "nbformat": 4,
 "nbformat_minor": 2
}
